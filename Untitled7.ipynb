{
 "cells": [
  {
   "cell_type": "code",
   "execution_count": 17,
   "id": "feb40e05-5acc-4413-84bc-356f6e5d2736",
   "metadata": {},
   "outputs": [],
   "source": [
    "import numpy as np\n",
    "import random\n",
    "from IPython.display import clear_output\n",
    "import gym\n",
    "import warnings\n",
    "warnings.simplefilter(action = 'ignore')"
   ]
  },
  {
   "cell_type": "code",
   "execution_count": 28,
   "id": "55cb0cea-06e6-4534-94b7-93a152a9b498",
   "metadata": {},
   "outputs": [
    {
     "name": "stdout",
     "output_type": "stream",
     "text": [
      "No of Stats :Box([-1.2  -0.07], [0.6  0.07], (2,), float32)\n",
      "No of Actions :Box(-1.0, 1.0, (1,), float32)\n"
     ]
    }
   ],
   "source": [
    "environment=gym.make('MountainCarContinuous-v0').env\n",
    "environment.reset()\n",
    "environment.render()\n",
    "\n",
    "print ('No of Stats :{}'.format(environment.observation_space))\n",
    "print ('No of Actions :{}'.format(environment.action_space))"
   ]
  },
  {
   "cell_type": "code",
   "execution_count": 19,
   "id": "b5637a70-6b51-4ab5-9202-c2b65027b723",
   "metadata": {},
   "outputs": [
    {
     "data": {
      "text/html": [
       "<table><tr><th style='background-color: red; color: white; font-weight: bold; font-size: 18px; padding: 8px; border: 1px solid black;'>State Variable</th><th style='background-color: red; color: white; font-weight: bold; font-size: 18px; padding: 8px; border: 1px solid black;'>Quantity</th><th style='background-color: red; color: white; font-weight: bold; font-size: 18px; padding: 8px; border: 1px solid black;'>Min</th><th style='background-color: red; color: white; font-weight: bold; font-size: 18px; padding: 8px; border: 1px solid black;'>Max</th></tr><tr><td style='text-align: center; border: 1px solid black; padding: 8px;'>0</td><td style='text-align: center; border: 1px solid black; padding: 8px;'>Car position</td><td style='text-align: center; border: 1px solid black; padding: 8px;'>-1.2</td><td style='text-align: center; border: 1px solid black; padding: 8px;'>0.6</td></tr><tr><td style='text-align: center; border: 1px solid black; padding: 8px;'>1</td><td style='text-align: center; border: 1px solid black; padding: 8px;'>Car velocity</td><td style='text-align: center; border: 1px solid black; padding: 8px;'>-0.07</td><td style='text-align: center; border: 1px solid black; padding: 8px;'>0.07</td></tr></table>"
      ],
      "text/plain": [
       "<IPython.core.display.HTML object>"
      ]
     },
     "execution_count": 19,
     "metadata": {},
     "output_type": "execute_result"
    }
   ],
   "source": [
    "from IPython.display import HTML\n",
    "\n",
    "# Define the table data\n",
    "data = [\n",
    "    ('State Variable', 'Quantity', 'Min', 'Max'),\n",
    "    ('0', 'Car position', '-1.2', '0.6'),\n",
    "    ('1', 'Car velocity', '-0.07', '0.07')\n",
    "]\n",
    "\n",
    "# Create the HTML table\n",
    "html = \"<table>\"\n",
    "html += \"<tr>\"\n",
    "for header in data[0]:\n",
    "    html += f\"<th style='background-color: red; color: white; font-weight: bold; font-size: 18px; padding: 8px; border: 1px solid black;'>{header}</th>\"\n",
    "html += \"</tr>\"\n",
    "for row in data[1:]:\n",
    "    html += \"<tr>\"\n",
    "    for cell in row:\n",
    "        html += f\"<td style='text-align: center; border: 1px solid black; padding: 8px;'>{cell}</td>\"\n",
    "    html += \"</tr>\"\n",
    "html += \"</table>\"\n",
    "\n",
    "# Display the table using HTML\n",
    "HTML(html)"
   ]
  },
  {
   "cell_type": "code",
   "execution_count": 22,
   "id": "505139a6-42eb-4972-be9b-85b5b5ad9162",
   "metadata": {},
   "outputs": [],
   "source": [
    "# print(environment.step(3))"
   ]
  },
  {
   "cell_type": "code",
   "execution_count": 32,
   "id": "28d44c0d-23d3-4df9-a2ba-95435e8b274b",
   "metadata": {},
   "outputs": [],
   "source": [
    "\n",
    "# Define Q-learning function\n",
    "def QLearning(env, learning, discount, epsilon, min_eps, episodes):\n",
    "    # Determine size of discretized state space\n",
    "    num_states = (env.observation_space.high - env.observation_space.low)*\\\n",
    "                    np.array([10, 100])\n",
    "    num_states = np.round(num_states, 0).astype(int) + 1\n",
    "    \n",
    "    # Initialize Q table\n",
    "    Q = np.random.uniform(low = -1, high = 1, \n",
    "                          size = (num_states[0], num_states[1], \n",
    "                                  env.action_space.n))\n",
    "    \n",
    "    # Initialize variables to track rewards\n",
    "    reward_list = []\n",
    "    ave_reward_list = []\n",
    "    \n",
    "    # Calculate episodic reduction in epsilon\n",
    "    reduction = (epsilon - min_eps)/episodes\n",
    "    \n",
    "    # Run Q learning algorithm\n",
    "    for i in range(episodes):\n",
    "        # Initialize parameters\n",
    "        done = False\n",
    "        tot_reward, reward = 0,0\n",
    "        state = env.reset()\n",
    "        \n",
    "        # Discretize state\n",
    "        state_adj = (state - env.observation_space.low)*np.array([10, 100])\n",
    "        state_adj = np.round(state_adj, 0).astype(int)\n",
    "    \n",
    "        while done != True:   \n",
    "            # Render environment for last five episodes\n",
    "            if i >= (episodes - 20):\n",
    "                env.render()\n",
    "                \n",
    "            # Determine next action - epsilon greedy strategy\n",
    "            if np.random.random() < 1 - epsilon:\n",
    "                action = np.argmax(Q[state_adj[0], state_adj[1]]) \n",
    "            else:\n",
    "                action = np.random.randint(0, env.action_space.n)\n",
    "                \n",
    "            # Get next state and reward\n",
    "            state2, reward, done, info = env.step(action) \n",
    "            \n",
    "            # Discretize state2\n",
    "            state2_adj = (state2 - env.observation_space.low)*np.array([10, 100])\n",
    "            state2_adj = np.round(state2_adj, 0).astype(int)\n",
    "            \n",
    "            #Allow for terminal states\n",
    "            if done and state2[0] >= 0.5:\n",
    "                Q[state_adj[0], state_adj[1], action] = reward\n",
    "                \n",
    "            # Adjust Q value for current state\n",
    "            else:\n",
    "                delta = learning*(reward + \n",
    "                                 discount*np.max(Q[state2_adj[0], \n",
    "                                                   state2_adj[1]]) - \n",
    "                                 Q[state_adj[0], state_adj[1],action])\n",
    "                Q[state_adj[0], state_adj[1],action] += delta\n",
    "                                     \n",
    "            # Update variables\n",
    "            tot_reward += reward\n",
    "            state_adj = state2_adj\n",
    "        \n",
    "        # Decay epsilon\n",
    "        if epsilon > min_eps:\n",
    "            epsilon -= reduction\n",
    "        \n",
    "        # Track rewards\n",
    "        reward_list.append(tot_reward)\n",
    "        \n",
    "        if (i+1) % 100 == 0:\n",
    "            ave_reward = np.mean(reward_list)\n",
    "            ave_reward_list.append(ave_reward)\n",
    "            reward_list = []\n",
    "            \n",
    "    \n",
    "    \n",
    "    return ave_reward_list"
   ]
  },
  {
   "cell_type": "code",
   "execution_count": 33,
   "id": "07400d06-2355-41b8-8906-e96c4dbb9e94",
   "metadata": {},
   "outputs": [
    {
     "ename": "AttributeError",
     "evalue": "'Box' object has no attribute 'n'",
     "output_type": "error",
     "traceback": [
      "\u001b[1;31m---------------------------------------------------------------------------\u001b[0m",
      "\u001b[1;31mAttributeError\u001b[0m                            Traceback (most recent call last)",
      "Cell \u001b[1;32mIn[33], line 1\u001b[0m\n\u001b[1;32m----> 1\u001b[0m rewards \u001b[38;5;241m=\u001b[39m \u001b[43mQLearning\u001b[49m\u001b[43m(\u001b[49m\u001b[43menvironment\u001b[49m\u001b[43m,\u001b[49m\u001b[43m \u001b[49m\u001b[38;5;241;43m0.2\u001b[39;49m\u001b[43m,\u001b[49m\u001b[43m \u001b[49m\u001b[38;5;241;43m0.9\u001b[39;49m\u001b[43m,\u001b[49m\u001b[43m \u001b[49m\u001b[38;5;241;43m0.8\u001b[39;49m\u001b[43m,\u001b[49m\u001b[43m \u001b[49m\u001b[38;5;241;43m0\u001b[39;49m\u001b[43m,\u001b[49m\u001b[43m \u001b[49m\u001b[38;5;241;43m1000\u001b[39;49m\u001b[43m)\u001b[49m\n\u001b[0;32m      2\u001b[0m plt\u001b[38;5;241m.\u001b[39mplot(\u001b[38;5;241m100\u001b[39m\u001b[38;5;241m*\u001b[39m(np\u001b[38;5;241m.\u001b[39marange(\u001b[38;5;28mlen\u001b[39m(rewards)) \u001b[38;5;241m+\u001b[39m \u001b[38;5;241m1\u001b[39m), rewards)\n\u001b[0;32m      3\u001b[0m plt\u001b[38;5;241m.\u001b[39mxlabel(\u001b[38;5;124m'\u001b[39m\u001b[38;5;124mEpisodes\u001b[39m\u001b[38;5;124m'\u001b[39m)\n",
      "Cell \u001b[1;32mIn[32], line 11\u001b[0m, in \u001b[0;36mQLearning\u001b[1;34m(env, learning, discount, epsilon, min_eps, episodes)\u001b[0m\n\u001b[0;32m      6\u001b[0m num_states \u001b[38;5;241m=\u001b[39m np\u001b[38;5;241m.\u001b[39mround(num_states, \u001b[38;5;241m0\u001b[39m)\u001b[38;5;241m.\u001b[39mastype(\u001b[38;5;28mint\u001b[39m) \u001b[38;5;241m+\u001b[39m \u001b[38;5;241m1\u001b[39m\n\u001b[0;32m      8\u001b[0m \u001b[38;5;66;03m# Initialize Q table\u001b[39;00m\n\u001b[0;32m      9\u001b[0m Q \u001b[38;5;241m=\u001b[39m np\u001b[38;5;241m.\u001b[39mrandom\u001b[38;5;241m.\u001b[39muniform(low \u001b[38;5;241m=\u001b[39m \u001b[38;5;241m-\u001b[39m\u001b[38;5;241m1\u001b[39m, high \u001b[38;5;241m=\u001b[39m \u001b[38;5;241m1\u001b[39m, \n\u001b[0;32m     10\u001b[0m                       size \u001b[38;5;241m=\u001b[39m (num_states[\u001b[38;5;241m0\u001b[39m], num_states[\u001b[38;5;241m1\u001b[39m], \n\u001b[1;32m---> 11\u001b[0m                               \u001b[43menv\u001b[49m\u001b[38;5;241;43m.\u001b[39;49m\u001b[43maction_space\u001b[49m\u001b[38;5;241;43m.\u001b[39;49m\u001b[43mn\u001b[49m))\n\u001b[0;32m     13\u001b[0m \u001b[38;5;66;03m# Initialize variables to track rewards\u001b[39;00m\n\u001b[0;32m     14\u001b[0m reward_list \u001b[38;5;241m=\u001b[39m []\n",
      "\u001b[1;31mAttributeError\u001b[0m: 'Box' object has no attribute 'n'"
     ]
    }
   ],
   "source": [
    "rewards = QLearning(environment, 0.2, 0.9, 0.8, 0, 1000)\n",
    "plt.plot(100*(np.arange(len(rewards)) + 1), rewards)\n",
    "plt.xlabel('Episodes')\n",
    "plt.ylabel('Average Reward')\n",
    "plt.title('Average Reward vs Episodes')"
   ]
  },
  {
   "cell_type": "code",
   "execution_count": null,
   "id": "f72778ff-9b70-4e37-8125-2e454af1bb5a",
   "metadata": {},
   "outputs": [],
   "source": []
  }
 ],
 "metadata": {
  "kernelspec": {
   "display_name": "Python 3 (ipykernel)",
   "language": "python",
   "name": "python3"
  },
  "language_info": {
   "codemirror_mode": {
    "name": "ipython",
    "version": 3
   },
   "file_extension": ".py",
   "mimetype": "text/x-python",
   "name": "python",
   "nbconvert_exporter": "python",
   "pygments_lexer": "ipython3",
   "version": "3.11.2"
  }
 },
 "nbformat": 4,
 "nbformat_minor": 5
}
