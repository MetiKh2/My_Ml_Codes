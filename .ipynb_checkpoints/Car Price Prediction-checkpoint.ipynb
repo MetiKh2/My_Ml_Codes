{
 "cells": [
  {
   "cell_type": "code",
   "execution_count": 1,
   "id": "e75182e6",
   "metadata": {},
   "outputs": [],
   "source": [
    "import pandas as pd\n",
    "import numpy as np\n",
    "import matplotlib.pyplot as plt\n",
    "import seaborn as sns\n",
    "import sympy as sp\n",
    "from sklearn.model_selection import train_test_split\n",
    "from sklearn.model_selection import KFold\n",
    "from sklearn.model_selection import cross_val_score\n",
    "from sklearn.linear_model import LinearRegression\n",
    "from sklearn import metrics\n",
    "from sklearn import preprocessing\n",
    "from warnings import simplefilter\n",
    "simplefilter(action='ignore', category=FutureWarning)"
   ]
  },
  {
   "cell_type": "code",
   "execution_count": 2,
   "id": "f7f734c6",
   "metadata": {},
   "outputs": [],
   "source": [
    "data = pd.read_csv(r\"D:\\Python\\Data\\cardata.csv\")\n",
    "df = pd.DataFrame(data)"
   ]
  },
  {
   "cell_type": "code",
   "execution_count": 3,
   "id": "10db0773",
   "metadata": {},
   "outputs": [
    {
     "data": {
      "text/html": [
       "<div>\n",
       "<style scoped>\n",
       "    .dataframe tbody tr th:only-of-type {\n",
       "        vertical-align: middle;\n",
       "    }\n",
       "\n",
       "    .dataframe tbody tr th {\n",
       "        vertical-align: top;\n",
       "    }\n",
       "\n",
       "    .dataframe thead th {\n",
       "        text-align: right;\n",
       "    }\n",
       "</style>\n",
       "<table border=\"1\" class=\"dataframe\">\n",
       "  <thead>\n",
       "    <tr style=\"text-align: right;\">\n",
       "      <th></th>\n",
       "      <th>Car_Name</th>\n",
       "      <th>Year</th>\n",
       "      <th>Selling_Price</th>\n",
       "      <th>Present_Price</th>\n",
       "      <th>Kms_Driven</th>\n",
       "      <th>Fuel_Type</th>\n",
       "      <th>Seller_Type</th>\n",
       "      <th>Transmission</th>\n",
       "      <th>Owner</th>\n",
       "    </tr>\n",
       "  </thead>\n",
       "  <tbody>\n",
       "    <tr>\n",
       "      <th>count</th>\n",
       "      <td>301</td>\n",
       "      <td>301.000000</td>\n",
       "      <td>301.000000</td>\n",
       "      <td>301.000000</td>\n",
       "      <td>301.000000</td>\n",
       "      <td>301</td>\n",
       "      <td>301</td>\n",
       "      <td>301</td>\n",
       "      <td>301.000000</td>\n",
       "    </tr>\n",
       "    <tr>\n",
       "      <th>unique</th>\n",
       "      <td>98</td>\n",
       "      <td>NaN</td>\n",
       "      <td>NaN</td>\n",
       "      <td>NaN</td>\n",
       "      <td>NaN</td>\n",
       "      <td>3</td>\n",
       "      <td>2</td>\n",
       "      <td>2</td>\n",
       "      <td>NaN</td>\n",
       "    </tr>\n",
       "    <tr>\n",
       "      <th>top</th>\n",
       "      <td>city</td>\n",
       "      <td>NaN</td>\n",
       "      <td>NaN</td>\n",
       "      <td>NaN</td>\n",
       "      <td>NaN</td>\n",
       "      <td>Petrol</td>\n",
       "      <td>Dealer</td>\n",
       "      <td>Manual</td>\n",
       "      <td>NaN</td>\n",
       "    </tr>\n",
       "    <tr>\n",
       "      <th>freq</th>\n",
       "      <td>26</td>\n",
       "      <td>NaN</td>\n",
       "      <td>NaN</td>\n",
       "      <td>NaN</td>\n",
       "      <td>NaN</td>\n",
       "      <td>239</td>\n",
       "      <td>195</td>\n",
       "      <td>261</td>\n",
       "      <td>NaN</td>\n",
       "    </tr>\n",
       "    <tr>\n",
       "      <th>mean</th>\n",
       "      <td>NaN</td>\n",
       "      <td>2013.627907</td>\n",
       "      <td>4.661296</td>\n",
       "      <td>7.628472</td>\n",
       "      <td>36947.205980</td>\n",
       "      <td>NaN</td>\n",
       "      <td>NaN</td>\n",
       "      <td>NaN</td>\n",
       "      <td>0.043189</td>\n",
       "    </tr>\n",
       "    <tr>\n",
       "      <th>std</th>\n",
       "      <td>NaN</td>\n",
       "      <td>2.891554</td>\n",
       "      <td>5.082812</td>\n",
       "      <td>8.644115</td>\n",
       "      <td>38886.883882</td>\n",
       "      <td>NaN</td>\n",
       "      <td>NaN</td>\n",
       "      <td>NaN</td>\n",
       "      <td>0.247915</td>\n",
       "    </tr>\n",
       "    <tr>\n",
       "      <th>min</th>\n",
       "      <td>NaN</td>\n",
       "      <td>2003.000000</td>\n",
       "      <td>0.100000</td>\n",
       "      <td>0.320000</td>\n",
       "      <td>500.000000</td>\n",
       "      <td>NaN</td>\n",
       "      <td>NaN</td>\n",
       "      <td>NaN</td>\n",
       "      <td>0.000000</td>\n",
       "    </tr>\n",
       "    <tr>\n",
       "      <th>25%</th>\n",
       "      <td>NaN</td>\n",
       "      <td>2012.000000</td>\n",
       "      <td>0.900000</td>\n",
       "      <td>1.200000</td>\n",
       "      <td>15000.000000</td>\n",
       "      <td>NaN</td>\n",
       "      <td>NaN</td>\n",
       "      <td>NaN</td>\n",
       "      <td>0.000000</td>\n",
       "    </tr>\n",
       "    <tr>\n",
       "      <th>50%</th>\n",
       "      <td>NaN</td>\n",
       "      <td>2014.000000</td>\n",
       "      <td>3.600000</td>\n",
       "      <td>6.400000</td>\n",
       "      <td>32000.000000</td>\n",
       "      <td>NaN</td>\n",
       "      <td>NaN</td>\n",
       "      <td>NaN</td>\n",
       "      <td>0.000000</td>\n",
       "    </tr>\n",
       "    <tr>\n",
       "      <th>75%</th>\n",
       "      <td>NaN</td>\n",
       "      <td>2016.000000</td>\n",
       "      <td>6.000000</td>\n",
       "      <td>9.900000</td>\n",
       "      <td>48767.000000</td>\n",
       "      <td>NaN</td>\n",
       "      <td>NaN</td>\n",
       "      <td>NaN</td>\n",
       "      <td>0.000000</td>\n",
       "    </tr>\n",
       "    <tr>\n",
       "      <th>max</th>\n",
       "      <td>NaN</td>\n",
       "      <td>2018.000000</td>\n",
       "      <td>35.000000</td>\n",
       "      <td>92.600000</td>\n",
       "      <td>500000.000000</td>\n",
       "      <td>NaN</td>\n",
       "      <td>NaN</td>\n",
       "      <td>NaN</td>\n",
       "      <td>3.000000</td>\n",
       "    </tr>\n",
       "  </tbody>\n",
       "</table>\n",
       "</div>"
      ],
      "text/plain": [
       "       Car_Name         Year  Selling_Price  Present_Price     Kms_Driven  \\\n",
       "count       301   301.000000     301.000000     301.000000     301.000000   \n",
       "unique       98          NaN            NaN            NaN            NaN   \n",
       "top        city          NaN            NaN            NaN            NaN   \n",
       "freq         26          NaN            NaN            NaN            NaN   \n",
       "mean        NaN  2013.627907       4.661296       7.628472   36947.205980   \n",
       "std         NaN     2.891554       5.082812       8.644115   38886.883882   \n",
       "min         NaN  2003.000000       0.100000       0.320000     500.000000   \n",
       "25%         NaN  2012.000000       0.900000       1.200000   15000.000000   \n",
       "50%         NaN  2014.000000       3.600000       6.400000   32000.000000   \n",
       "75%         NaN  2016.000000       6.000000       9.900000   48767.000000   \n",
       "max         NaN  2018.000000      35.000000      92.600000  500000.000000   \n",
       "\n",
       "       Fuel_Type Seller_Type Transmission       Owner  \n",
       "count        301         301          301  301.000000  \n",
       "unique         3           2            2         NaN  \n",
       "top       Petrol      Dealer       Manual         NaN  \n",
       "freq         239         195          261         NaN  \n",
       "mean         NaN         NaN          NaN    0.043189  \n",
       "std          NaN         NaN          NaN    0.247915  \n",
       "min          NaN         NaN          NaN    0.000000  \n",
       "25%          NaN         NaN          NaN    0.000000  \n",
       "50%          NaN         NaN          NaN    0.000000  \n",
       "75%          NaN         NaN          NaN    0.000000  \n",
       "max          NaN         NaN          NaN    3.000000  "
      ]
     },
     "execution_count": 3,
     "metadata": {},
     "output_type": "execute_result"
    }
   ],
   "source": [
    "df.describe(include=\"all\") # no missing values"
   ]
  },
  {
   "cell_type": "code",
   "execution_count": 4,
   "id": "5dc6971b",
   "metadata": {},
   "outputs": [],
   "source": [
    "# we can drop Car_Name\n",
    "df = df.drop(columns=\"Car_Name\")"
   ]
  },
  {
   "cell_type": "code",
   "execution_count": 5,
   "id": "f7165c6e",
   "metadata": {},
   "outputs": [],
   "source": [
    "# let's change Year to Age based on MAX of Year+1\n",
    "df.insert(1,\"Age\",df[\"Year\"].max()+1-df[\"Year\"])"
   ]
  },
  {
   "cell_type": "code",
   "execution_count": 6,
   "id": "c105983e",
   "metadata": {},
   "outputs": [],
   "source": [
    "df.drop(columns=\"Year\",inplace=True)"
   ]
  },
  {
   "cell_type": "code",
   "execution_count": 7,
   "id": "0a208b64",
   "metadata": {},
   "outputs": [
    {
     "data": {
      "text/html": [
       "<div>\n",
       "<style scoped>\n",
       "    .dataframe tbody tr th:only-of-type {\n",
       "        vertical-align: middle;\n",
       "    }\n",
       "\n",
       "    .dataframe tbody tr th {\n",
       "        vertical-align: top;\n",
       "    }\n",
       "\n",
       "    .dataframe thead th {\n",
       "        text-align: right;\n",
       "    }\n",
       "</style>\n",
       "<table border=\"1\" class=\"dataframe\">\n",
       "  <thead>\n",
       "    <tr style=\"text-align: right;\">\n",
       "      <th></th>\n",
       "      <th>Age</th>\n",
       "      <th>Selling_Price</th>\n",
       "      <th>Present_Price</th>\n",
       "      <th>Kms_Driven</th>\n",
       "      <th>Fuel_Type</th>\n",
       "      <th>Seller_Type</th>\n",
       "      <th>Transmission</th>\n",
       "      <th>Owner</th>\n",
       "    </tr>\n",
       "  </thead>\n",
       "  <tbody>\n",
       "    <tr>\n",
       "      <th>18</th>\n",
       "      <td>4</td>\n",
       "      <td>3.25</td>\n",
       "      <td>5.09</td>\n",
       "      <td>35500</td>\n",
       "      <td>CNG</td>\n",
       "      <td>Dealer</td>\n",
       "      <td>Manual</td>\n",
       "      <td>0</td>\n",
       "    </tr>\n",
       "    <tr>\n",
       "      <th>35</th>\n",
       "      <td>8</td>\n",
       "      <td>2.95</td>\n",
       "      <td>7.74</td>\n",
       "      <td>49998</td>\n",
       "      <td>CNG</td>\n",
       "      <td>Dealer</td>\n",
       "      <td>Manual</td>\n",
       "      <td>0</td>\n",
       "    </tr>\n",
       "  </tbody>\n",
       "</table>\n",
       "</div>"
      ],
      "text/plain": [
       "    Age  Selling_Price  Present_Price  Kms_Driven Fuel_Type Seller_Type  \\\n",
       "18    4           3.25           5.09       35500       CNG      Dealer   \n",
       "35    8           2.95           7.74       49998       CNG      Dealer   \n",
       "\n",
       "   Transmission  Owner  \n",
       "18       Manual      0  \n",
       "35       Manual      0  "
      ]
     },
     "execution_count": 7,
     "metadata": {},
     "output_type": "execute_result"
    }
   ],
   "source": [
    "df[df[\"Fuel_Type\"]==\"CNG\"]"
   ]
  },
  {
   "cell_type": "code",
   "execution_count": 8,
   "id": "957f42a3",
   "metadata": {},
   "outputs": [
    {
     "data": {
      "text/html": [
       "<div>\n",
       "<style scoped>\n",
       "    .dataframe tbody tr th:only-of-type {\n",
       "        vertical-align: middle;\n",
       "    }\n",
       "\n",
       "    .dataframe tbody tr th {\n",
       "        vertical-align: top;\n",
       "    }\n",
       "\n",
       "    .dataframe thead th {\n",
       "        text-align: right;\n",
       "    }\n",
       "</style>\n",
       "<table border=\"1\" class=\"dataframe\">\n",
       "  <thead>\n",
       "    <tr style=\"text-align: right;\">\n",
       "      <th></th>\n",
       "      <th>Age</th>\n",
       "      <th>Selling_Price</th>\n",
       "      <th>Present_Price</th>\n",
       "      <th>Kms_Driven</th>\n",
       "      <th>Fuel_Type</th>\n",
       "      <th>Seller_Type</th>\n",
       "      <th>Transmission</th>\n",
       "      <th>Owner</th>\n",
       "    </tr>\n",
       "  </thead>\n",
       "  <tbody>\n",
       "    <tr>\n",
       "      <th>101</th>\n",
       "      <td>2</td>\n",
       "      <td>1.70</td>\n",
       "      <td>1.82</td>\n",
       "      <td>1400</td>\n",
       "      <td>Petrol</td>\n",
       "      <td>Individual</td>\n",
       "      <td>Manual</td>\n",
       "      <td>0</td>\n",
       "    </tr>\n",
       "    <tr>\n",
       "      <th>115</th>\n",
       "      <td>4</td>\n",
       "      <td>1.11</td>\n",
       "      <td>1.47</td>\n",
       "      <td>17500</td>\n",
       "      <td>Petrol</td>\n",
       "      <td>Individual</td>\n",
       "      <td>Manual</td>\n",
       "      <td>0</td>\n",
       "    </tr>\n",
       "    <tr>\n",
       "      <th>104</th>\n",
       "      <td>2</td>\n",
       "      <td>1.35</td>\n",
       "      <td>1.47</td>\n",
       "      <td>4100</td>\n",
       "      <td>Petrol</td>\n",
       "      <td>Individual</td>\n",
       "      <td>Manual</td>\n",
       "      <td>0</td>\n",
       "    </tr>\n",
       "    <tr>\n",
       "      <th>263</th>\n",
       "      <td>3</td>\n",
       "      <td>6.60</td>\n",
       "      <td>7.70</td>\n",
       "      <td>16002</td>\n",
       "      <td>Petrol</td>\n",
       "      <td>Dealer</td>\n",
       "      <td>Manual</td>\n",
       "      <td>0</td>\n",
       "    </tr>\n",
       "    <tr>\n",
       "      <th>251</th>\n",
       "      <td>6</td>\n",
       "      <td>5.00</td>\n",
       "      <td>9.90</td>\n",
       "      <td>56701</td>\n",
       "      <td>Petrol</td>\n",
       "      <td>Dealer</td>\n",
       "      <td>Manual</td>\n",
       "      <td>0</td>\n",
       "    </tr>\n",
       "  </tbody>\n",
       "</table>\n",
       "</div>"
      ],
      "text/plain": [
       "     Age  Selling_Price  Present_Price  Kms_Driven Fuel_Type Seller_Type  \\\n",
       "101    2           1.70           1.82        1400    Petrol  Individual   \n",
       "115    4           1.11           1.47       17500    Petrol  Individual   \n",
       "104    2           1.35           1.47        4100    Petrol  Individual   \n",
       "263    3           6.60           7.70       16002    Petrol      Dealer   \n",
       "251    6           5.00           9.90       56701    Petrol      Dealer   \n",
       "\n",
       "    Transmission  Owner  \n",
       "101       Manual      0  \n",
       "115       Manual      0  \n",
       "104       Manual      0  \n",
       "263       Manual      0  \n",
       "251       Manual      0  "
      ]
     },
     "execution_count": 8,
     "metadata": {},
     "output_type": "execute_result"
    }
   ],
   "source": [
    "dfnu =  df.copy()\n",
    "dfnu.sample(5)"
   ]
  },
  {
   "cell_type": "code",
   "execution_count": 9,
   "id": "e7ce53cc",
   "metadata": {},
   "outputs": [
    {
     "data": {
      "image/png": "[encoded data removed]",
      "text/plain": [
       "<Figure size 720x288 with 3 Axes>"
      ]
     },
     "metadata": {
      "needs_background": "light"
     },
     "output_type": "display_data"
    }
   ],
   "source": [
    "fig, axs = plt.subplots(1,3,sharex=False, figsize=(10, 4))\n",
    "axs[0].scatter(dfnu[\"Selling_Price\"],dfnu[\"Present_Price\"])\n",
    "axs[0].grid();axs[0].set_title(\"Present_Price\")\n",
    "axs[1].scatter(dfnu[\"Selling_Price\"],dfnu[\"Kms_Driven\"])\n",
    "axs[1].grid();axs[1].set_title(\"Kms_Driven\")\n",
    "axs[2].scatter(dfnu[\"Selling_Price\"],dfnu[\"Age\"])\n",
    "axs[2].grid();axs[2].set_title(\"Age\")\n",
    "fig.tight_layout()"
   ]
  },
  {
   "cell_type": "code",
   "execution_count": 10,
   "id": "fe792408",
   "metadata": {},
   "outputs": [
    {
     "data": {
      "text/html": [
       "<div>\n",
       "<style scoped>\n",
       "    .dataframe tbody tr th:only-of-type {\n",
       "        vertical-align: middle;\n",
       "    }\n",
       "\n",
       "    .dataframe tbody tr th {\n",
       "        vertical-align: top;\n",
       "    }\n",
       "\n",
       "    .dataframe thead th {\n",
       "        text-align: right;\n",
       "    }\n",
       "</style>\n",
       "<table border=\"1\" class=\"dataframe\">\n",
       "  <thead>\n",
       "    <tr style=\"text-align: right;\">\n",
       "      <th></th>\n",
       "      <th>Age</th>\n",
       "      <th>Selling_Price</th>\n",
       "      <th>Present_Price</th>\n",
       "      <th>Kms_Driven</th>\n",
       "      <th>Fuel_Type</th>\n",
       "      <th>Seller_Type</th>\n",
       "      <th>Transmission</th>\n",
       "      <th>Owner</th>\n",
       "    </tr>\n",
       "  </thead>\n",
       "  <tbody>\n",
       "    <tr>\n",
       "      <th>64</th>\n",
       "      <td>2</td>\n",
       "      <td>33.00</td>\n",
       "      <td>36.23</td>\n",
       "      <td>6000</td>\n",
       "      <td>Diesel</td>\n",
       "      <td>Dealer</td>\n",
       "      <td>Automatic</td>\n",
       "      <td>0</td>\n",
       "    </tr>\n",
       "    <tr>\n",
       "      <th>86</th>\n",
       "      <td>9</td>\n",
       "      <td>35.00</td>\n",
       "      <td>92.60</td>\n",
       "      <td>78000</td>\n",
       "      <td>Diesel</td>\n",
       "      <td>Dealer</td>\n",
       "      <td>Manual</td>\n",
       "      <td>0</td>\n",
       "    </tr>\n",
       "    <tr>\n",
       "      <th>196</th>\n",
       "      <td>11</td>\n",
       "      <td>0.17</td>\n",
       "      <td>0.52</td>\n",
       "      <td>500000</td>\n",
       "      <td>Petrol</td>\n",
       "      <td>Individual</td>\n",
       "      <td>Automatic</td>\n",
       "      <td>0</td>\n",
       "    </tr>\n",
       "  </tbody>\n",
       "</table>\n",
       "</div>"
      ],
      "text/plain": [
       "     Age  Selling_Price  Present_Price  Kms_Driven Fuel_Type Seller_Type  \\\n",
       "64     2          33.00          36.23        6000    Diesel      Dealer   \n",
       "86     9          35.00          92.60       78000    Diesel      Dealer   \n",
       "196   11           0.17           0.52      500000    Petrol  Individual   \n",
       "\n",
       "    Transmission  Owner  \n",
       "64     Automatic      0  \n",
       "86        Manual      0  \n",
       "196    Automatic      0  "
      ]
     },
     "execution_count": 10,
     "metadata": {},
     "output_type": "execute_result"
    }
   ],
   "source": [
    "# let's remove all Selling price more than 30 and Kms driven more than 400k, \n",
    "# because these three records are remote and may affect our model.\n",
    "# so let's remove them for now and make our model\n",
    "dfnu[(dfnu[\"Selling_Price\"]>30) | (dfnu[\"Kms_Driven\"]>400000)]"
   ]
  },
  {
   "cell_type": "code",
   "execution_count": 11,
   "id": "9c26349e",
   "metadata": {},
   "outputs": [],
   "source": [
    "dfnu = dfnu.drop([64,86,196]).reset_index().drop(columns=\"index\")"
   ]
  },
  {
   "cell_type": "code",
   "execution_count": 12,
   "id": "4ee70236",
   "metadata": {},
   "outputs": [
    {
     "data": {
      "image/png": "[encoded data removed]",
      "text/plain": [
       "<Figure size 720x288 with 3 Axes>"
      ]
     },
     "metadata": {
      "needs_background": "light"
     },
     "output_type": "display_data"
    }
   ],
   "source": [
    "fig, axs = plt.subplots(1,3,sharex=False, figsize=(10, 4))\n",
    "axs[0].scatter(dfnu[\"Selling_Price\"],dfnu[\"Present_Price\"])\n",
    "axs[0].grid();axs[0].set_title(\"Present_Price\")\n",
    "axs[1].scatter(dfnu[\"Selling_Price\"],dfnu[\"Kms_Driven\"])\n",
    "axs[1].grid();axs[1].set_title(\"Kms_Driven\")\n",
    "axs[2].scatter(dfnu[\"Selling_Price\"],dfnu[\"Age\"])\n",
    "axs[2].grid();axs[2].set_title(\"Age\")\n",
    "fig.tight_layout()"
   ]
  },
  {
   "cell_type": "code",
   "execution_count": 13,
   "id": "411cc41f",
   "metadata": {},
   "outputs": [
    {
     "name": "stdout",
     "output_type": "stream",
     "text": [
      "<class 'pandas.core.frame.DataFrame'>\n",
      "RangeIndex: 298 entries, 0 to 297\n",
      "Data columns (total 8 columns):\n",
      " #   Column         Non-Null Count  Dtype  \n",
      "---  ------         --------------  -----  \n",
      " 0   Age            298 non-null    int64  \n",
      " 1   Selling_Price  298 non-null    float64\n",
      " 2   Present_Price  298 non-null    float64\n",
      " 3   Kms_Driven     298 non-null    int64  \n",
      " 4   Fuel_Type      298 non-null    float64\n",
      " 5   Seller_Type    298 non-null    float64\n",
      " 6   Transmission   298 non-null    float64\n",
      " 7   Owner          298 non-null    int64  \n",
      "dtypes: float64(5), int64(3)\n",
      "memory usage: 18.8 KB\n"
     ]
    }
   ],
   "source": [
    "# converting catergories to numbers\n",
    "dfnu[\"Fuel_Type\"] = dfnu[\"Fuel_Type\"].replace([\"CNG\",\"Petrol\",\"Diesel\"], [4.0,3.0,2.0])\n",
    "dfnu[\"Seller_Type\"] = dfnu[\"Seller_Type\"].replace([\"Dealer\",\"Individual\"], [3.0,2.0])\n",
    "dfnu[\"Transmission\"] = dfnu[\"Transmission\"].replace([\"Automatic\",\"Manual\"], [3.0,2.0])\n",
    "dfnu.info()"
   ]
  },
  {
   "cell_type": "code",
   "execution_count": 14,
   "id": "ef83eca2",
   "metadata": {},
   "outputs": [
    {
     "data": {
      "image/png": "[encoded data removed]",
      "text/plain": [
       "<Figure size 1080x720 with 2 Axes>"
      ]
     },
     "metadata": {
      "needs_background": "light"
     },
     "output_type": "display_data"
    }
   ],
   "source": [
    "plt.figure(figsize=(15,10))\n",
    "sns.heatmap(dfnu.corr(), annot=True,linewidth=.5,cmap=\"coolwarm\",mask=np.triu(dfnu.corr()));"
   ]
  },
  {
   "cell_type": "code",
   "execution_count": 15,
   "id": "73efe15c",
   "metadata": {},
   "outputs": [
    {
     "data": {
      "text/plain": [
       "298"
      ]
     },
     "execution_count": 15,
     "metadata": {},
     "output_type": "execute_result"
    }
   ],
   "source": [
    "len(dfnu)"
   ]
  },
  {
   "cell_type": "code",
   "execution_count": 16,
   "id": "bf715056",
   "metadata": {},
   "outputs": [],
   "source": [
    "kfv = KFold(5)\n",
    "ts = 0.2\n",
    "resultcv = pd.DataFrame()"
   ]
  },
  {
   "cell_type": "markdown",
   "id": "fab7fe44",
   "metadata": {},
   "source": [
    "#### x1 = Age\n",
    "#### x2 = Present_Price\n",
    "#### x3 = Kms_Driven\n",
    "#### x4 = Fuel_Type\n",
    "#### x5 = Seller_Type\n",
    "#### x6 = Transmission\n",
    "#### x7 = Owner"
   ]
  },
  {
   "cell_type": "markdown",
   "id": "a3619df9",
   "metadata": {},
   "source": [
    "# Model1 = A(x1)+B(x2)+C(x3)+D(x4)+E(x5)+F(x6)+G(x7)"
   ]
  },
  {
   "cell_type": "code",
   "execution_count": 17,
   "id": "1f0853d5",
   "metadata": {},
   "outputs": [],
   "source": [
    "#model creation\n",
    "dfn1 = dfnu.copy()\n",
    "\n",
    "#normalizing\n",
    "scaler = preprocessing.MinMaxScaler(feature_range=(0,1))\n",
    "N1 = scaler.fit_transform(dfn1.drop(columns=[\"Selling_Price\"]))\n",
    "dfw1 = pd.DataFrame(N1,columns = list(dfn1.drop(columns=[\"Selling_Price\"]).columns))\n",
    "dfw1[\"Selling_Price\"] = dfn1[\"Selling_Price\"]\n",
    "\n",
    "#x and y define\n",
    "x1=dfw1.drop(columns=[\"Selling_Price\"])\n",
    "y1=dfw1[\"Selling_Price\"].values.reshape(-1,1)\n",
    "x_train1, x_test1, y_train1, y_test1=train_test_split(x1,y1, test_size=ts,random_state=0)\n",
    "\n",
    "regressor = LinearRegression()\n",
    "\n",
    "#KFold Test\n",
    "results = cross_val_score(regressor,x1,y1,cv=kfv)\n",
    "regressor.fit(x_train1,y_train1)\n",
    "resultcv.insert(0,\"M1\",np.append(results,[(np.mean(results)),regressor.score(x1,y1),regressor.score(x_test1,y_test1)]))"
   ]
  },
  {
   "cell_type": "markdown",
   "id": "96729864",
   "metadata": {},
   "source": [
    "# Model2 = A(x1)+B(x2)+C(x3)+D(x4)+E(x5)+F(x6)+G(x7)+H(x4)/(x1)+I(x2^2)"
   ]
  },
  {
   "cell_type": "code",
   "execution_count": 18,
   "id": "84d0daed",
   "metadata": {},
   "outputs": [],
   "source": [
    "#model creation\n",
    "dfn2 = dfnu.copy()\n",
    "dfn2[\"Kms/Age\"] = dfn2[\"Kms_Driven\"]/dfn2[\"Age\"]\n",
    "dfn2[\"Present_Price^2\"] = dfn2[\"Present_Price\"].astype(\"float64\")**(2)\n",
    "\n",
    "#normalizing\n",
    "N2 = scaler.fit_transform(dfn2.drop(columns=[\"Selling_Price\"]))\n",
    "dfw2 = pd.DataFrame(N2,columns = list(dfn2.drop(columns=[\"Selling_Price\"]).columns))\n",
    "dfw2[\"Selling_Price\"] = dfn2[\"Selling_Price\"]\n",
    "\n",
    "#x and y define\n",
    "x2=dfw2.drop(columns=[\"Selling_Price\"])\n",
    "y2=dfw2[\"Selling_Price\"].values.reshape(-1,1)\n",
    "x_train2, x_test2, y_train2, y_test2=train_test_split(x2,y2, test_size=ts,random_state=0)\n",
    "\n",
    "#KFold Test\n",
    "results = cross_val_score(regressor,x2,y2,cv=kfv)\n",
    "regressor.fit(x_train2,y_train2)\n",
    "resultcv.insert(0,\"M2[(x4)/(x1)+(x2^2)]\",np.append(results,[(np.mean(results)),regressor.score(x2,y2),regressor.score(x_test2,y_test2)]))\n",
    "#end"
   ]
  },
  {
   "cell_type": "markdown",
   "id": "5e5315b5",
   "metadata": {},
   "source": [
    "# Model3 = A(x1)+B(x2)+C(x3)+D(x4)+E(x5)+F(x6)+G(x7)+H(x4)/(x1)+I(x2^3)"
   ]
  },
  {
   "cell_type": "code",
   "execution_count": 19,
   "id": "d06cc9ac",
   "metadata": {},
   "outputs": [],
   "source": [
    "#model creation\n",
    "dfn3 = dfnu.copy()\n",
    "dfn3[\"Kms/Age\"] = dfn3[\"Kms_Driven\"]/dfn3[\"Age\"]\n",
    "dfn3[\"Present_Price^3\"] = dfn3[\"Present_Price\"].astype(\"float64\")**(3)\n",
    "\n",
    "#normalizing\n",
    "N3 = scaler.fit_transform(dfn3.drop(columns=[\"Selling_Price\"]))\n",
    "dfw3 = pd.DataFrame(N3,columns = list(dfn3.drop(columns=[\"Selling_Price\"]).columns))\n",
    "dfw3[\"Selling_Price\"] = dfn3[\"Selling_Price\"]\n",
    "\n",
    "#x and y define\n",
    "x3=dfw3.drop(columns=[\"Selling_Price\"])\n",
    "y3=dfw3[\"Selling_Price\"].values.reshape(-1,1)\n",
    "x_train3, x_test3, y_train3, y_test3=train_test_split(x3,y3, test_size=ts,random_state=0)\n",
    "\n",
    "#KFold Test\n",
    "results = cross_val_score(regressor,x3,y3,cv=kfv)\n",
    "regressor.fit(x_train3,y_train3)\n",
    "resultcv.insert(0,\"M3[(x4)/(x1)+(x2^3)]\",np.append(results,[(np.mean(results)),regressor.score(x3,y3),regressor.score(x_test3,y_test3)]))\n",
    "#end"
   ]
  },
  {
   "cell_type": "markdown",
   "id": "0d3083b2",
   "metadata": {},
   "source": [
    "# Model4 = A(x1)+B(x2)+C(x3)+D(x4)+E(x5)+F(x6)+G(x7)+H(x4)/(x1)+I(x4)(x5)(x6)"
   ]
  },
  {
   "cell_type": "code",
   "execution_count": 20,
   "id": "f5bc97c6",
   "metadata": {},
   "outputs": [],
   "source": [
    "#model creation\n",
    "dfn4 = dfnu.copy()\n",
    "dfn4[\"Kms/Age\"] = dfn4[\"Kms_Driven\"]/dfn4[\"Age\"]\n",
    "dfn4[\"Fue*Sel*Tran\"] = dfn4[\"Fuel_Type\"]*dfn4[\"Seller_Type\"]*dfn4[\"Transmission\"]\n",
    "\n",
    "#normalizing\n",
    "N4 = scaler.fit_transform(dfn4.drop(columns=[\"Selling_Price\"]))\n",
    "dfw4 = pd.DataFrame(N4,columns = list(dfn4.drop(columns=[\"Selling_Price\"]).columns))\n",
    "dfw4[\"Selling_Price\"] = dfn4[\"Selling_Price\"]\n",
    "\n",
    "#x and y define\n",
    "x4=dfw4.drop(columns=[\"Selling_Price\"])\n",
    "y4=dfw4[\"Selling_Price\"].values.reshape(-1,1)\n",
    "x_train4, x_test4, y_train4, y_test4=train_test_split(x4,y4, test_size=ts,random_state=0)\n",
    "\n",
    "#KFold Test\n",
    "results = cross_val_score(regressor,x4,y4,cv=kfv)\n",
    "regressor.fit(x_train4,y_train4)\n",
    "resultcv.insert(0,\"M4[(x4)/(x1)+(x4)(x5)(x6)]\",np.append(results,[(np.mean(results)),regressor.score(x4,y4),regressor.score(x_test4,y_test4)]))\n",
    "#end"
   ]
  },
  {
   "cell_type": "markdown",
   "id": "cef24938",
   "metadata": {},
   "source": [
    "# Model5 = A(x1)+B(x2)+C(x3)+D(x4)+E(x5)+F(x6)+G(x7)+H(x4)/(x1)+I(x4)(x5)(x6)+J(x2)(x6)"
   ]
  },
  {
   "cell_type": "code",
   "execution_count": 21,
   "id": "8fa034c8",
   "metadata": {},
   "outputs": [],
   "source": [
    "#model creation\n",
    "dfn5 = dfn4.copy()\n",
    "dfn5[\"Pres*Trans\"] = dfn5[\"Present_Price\"]*dfn5[\"Transmission\"]\n",
    "\n",
    "#normalizing\n",
    "N5 = scaler.fit_transform(dfn5.drop(columns=[\"Selling_Price\"]))\n",
    "dfw5 = pd.DataFrame(N5,columns = list(dfn5.drop(columns=[\"Selling_Price\"]).columns))\n",
    "dfw5[\"Selling_Price\"] = dfn5[\"Selling_Price\"]\n",
    "\n",
    "#x and y define\n",
    "x5=dfw5.drop(columns=[\"Selling_Price\"])\n",
    "y5=dfw5[\"Selling_Price\"].values.reshape(-1,1)\n",
    "x_train5, x_test5, y_train5, y_test5=train_test_split(x5,y5, test_size=ts,random_state=0)\n",
    "\n",
    "#KFold Test\n",
    "results = cross_val_score(regressor,x5,y5,cv=kfv)\n",
    "regressor.fit(x_train5,y_train5)\n",
    "resultcv.insert(0,\"M5[(x4)/(x1)+(x4)(x5)(x6)+(x2)(x6)]\",np.append(results,[(np.mean(results)),regressor.score(x5,y5),regressor.score(x_test5,y_test5)]))\n",
    "#end"
   ]
  },
  {
   "cell_type": "markdown",
   "id": "4f52536c",
   "metadata": {},
   "source": [
    "# Model6 = A(x1)+B(x2)+C(x3)+D(x4)+E(x5)+F(x6)+G(x7)+H(x4)/(x1)+I(x2)(x6)"
   ]
  },
  {
   "cell_type": "code",
   "execution_count": 22,
   "id": "e469cd3d",
   "metadata": {},
   "outputs": [],
   "source": [
    "#model creation\n",
    "dfn6 = dfnu.copy()\n",
    "dfn6[\"Kms/Age\"] = dfn6[\"Kms_Driven\"]/dfn6[\"Age\"]\n",
    "dfn6[\"Pres*Trans\"] = dfn6[\"Present_Price\"]*dfn6[\"Transmission\"]\n",
    "\n",
    "#normalizing\n",
    "N6 = scaler.fit_transform(dfn6.drop(columns=[\"Selling_Price\"]))\n",
    "dfw6 = pd.DataFrame(N6,columns = list(dfn6.drop(columns=[\"Selling_Price\"]).columns))\n",
    "dfw6[\"Selling_Price\"] = dfn6[\"Selling_Price\"]\n",
    "\n",
    "#x and y define\n",
    "x6=dfw6.drop(columns=[\"Selling_Price\"])\n",
    "y6=dfw6[\"Selling_Price\"].values.reshape(-1,1)\n",
    "x_train6, x_test6, y_train6, y_test6=train_test_split(x6,y6, test_size=ts,random_state=0)\n",
    "\n",
    "#KFold Test\n",
    "results = cross_val_score(regressor,x6,y6,cv=kfv)\n",
    "regressor.fit(x_train6,y_train6)\n",
    "resultcv.insert(0,\"M6[(x4)/(x1)+(x2)(x6)]\",np.append(results,[(np.mean(results)),regressor.score(x6,y6),regressor.score(x_test6,y_test6)]))\n",
    "#end"
   ]
  },
  {
   "cell_type": "markdown",
   "id": "39b6a4cc",
   "metadata": {},
   "source": [
    "# Model7 = A(x1)+B(x2)+C(x3)+D(x4)+E(x5)+F(x6)+G(x7)+H(x4)/(x1)+I(x4)(x5)(x6)+J(x2)(x6)+K(x4)(x6)"
   ]
  },
  {
   "cell_type": "code",
   "execution_count": 23,
   "id": "dd54dfe9",
   "metadata": {},
   "outputs": [],
   "source": [
    "#model creation\n",
    "dfn7 = dfn5.copy()\n",
    "dfn7[\"Fue*Trans\"] = dfn7[\"Fuel_Type\"]*dfn7[\"Transmission\"]\n",
    "\n",
    "#normalizing\n",
    "N7 = scaler.fit_transform(dfn7.drop(columns=[\"Selling_Price\"]))\n",
    "dfw7 = pd.DataFrame(N7,columns = list(dfn7.drop(columns=[\"Selling_Price\"]).columns))\n",
    "dfw7[\"Selling_Price\"] = dfn7[\"Selling_Price\"]\n",
    "\n",
    "#x and y define\n",
    "x7=dfw7.drop(columns=[\"Selling_Price\"])\n",
    "y7=dfw7[\"Selling_Price\"].values.reshape(-1,1)\n",
    "x_train7, x_test7, y_train7, y_test7=train_test_split(x7,y7, test_size=ts,random_state=0)\n",
    "\n",
    "#KFold Test\n",
    "results = cross_val_score(regressor,x7,y7,cv=kfv)\n",
    "regressor.fit(x_train7,y_train7)\n",
    "resultcv.insert(0,\"M7[(x4)/(x1)+(x4)(x5)(x6)+(x2)(x6)+(x4)(x6)]\",np.append(results,[(np.mean(results)),regressor.score(x7,y7),regressor.score(x_test7,y_test7)]))\n",
    "#end"
   ]
  },
  {
   "cell_type": "markdown",
   "id": "b8c80e79",
   "metadata": {},
   "source": [
    "# Model8 = A(x1)+B(x2)+C(x3)+D(x4)+E(x5)+F(x6)+G(x7)+H(x4)/(x1)+I(x4)(x5)(x6)+J(x2)(x6)+K(x4)(x6)+M(x1)(x2)"
   ]
  },
  {
   "cell_type": "code",
   "execution_count": 24,
   "id": "cffa440c",
   "metadata": {},
   "outputs": [],
   "source": [
    "#model creation\n",
    "dfn8 = dfn7.copy()\n",
    "dfn8[\"Age*Pres\"] = dfn8[\"Age\"]*dfn8[\"Present_Price\"]\n",
    "\n",
    "#normalizing\n",
    "N8 = scaler.fit_transform(dfn8.drop(columns=[\"Selling_Price\"]))\n",
    "dfw8 = pd.DataFrame(N8,columns = list(dfn8.drop(columns=[\"Selling_Price\"]).columns))\n",
    "dfw8[\"Selling_Price\"] = dfn8[\"Selling_Price\"]\n",
    "\n",
    "#x and y define\n",
    "x8=dfw8.drop(columns=[\"Selling_Price\"])\n",
    "y8=dfw8[\"Selling_Price\"].values.reshape(-1,1)\n",
    "x_train8, x_test8, y_train8, y_test8=train_test_split(x8,y8, test_size=ts,random_state=0)\n",
    "\n",
    "#KFold Test\n",
    "results = cross_val_score(regressor,x8,y8,cv=kfv)\n",
    "regressor.fit(x_train8,y_train8)\n",
    "resultcv.insert(0,\"M8[(x4)/(x1)+(x4)(x5)(x6)+(x2)(x6)+(x4)(x6)+(x1)(x2)]\",np.append(results,[(np.mean(results)),regressor.score(x8,y8),regressor.score(x_test8,y_test8)]))\n",
    "#end"
   ]
  },
  {
   "cell_type": "markdown",
   "id": "f1d51b04",
   "metadata": {},
   "source": [
    "# Model9 = A(x1)+B(x2)+C(x3)+D(x4)+E(x5)+F(x6)+G(x7)+H(x4)/(x1)+I(x4)(x5)(x6)+J(x4)(x6)+K(x1)(x2)"
   ]
  },
  {
   "cell_type": "code",
   "execution_count": 25,
   "id": "bfcf437f",
   "metadata": {},
   "outputs": [],
   "source": [
    "#model creation\n",
    "dfn9 = dfn8.drop(columns=\"Pres*Trans\")\n",
    "\n",
    "#normalizing\n",
    "N9 = scaler.fit_transform(dfn9.drop(columns=[\"Selling_Price\"]))\n",
    "dfw9 = pd.DataFrame(N9,columns = list(dfn9.drop(columns=[\"Selling_Price\"]).columns))\n",
    "dfw9[\"Selling_Price\"] = dfn9[\"Selling_Price\"]\n",
    "\n",
    "#x and y define\n",
    "x9=dfw9.drop(columns=[\"Selling_Price\"])\n",
    "y9=dfw9[\"Selling_Price\"].values.reshape(-1,1)\n",
    "x_train9, x_test9, y_train9, y_test9=train_test_split(x9,y9, test_size=ts,random_state=0)\n",
    "\n",
    "#KFold Test\n",
    "results = cross_val_score(regressor,x9,y9,cv=kfv)\n",
    "regressor.fit(x_train9,y_train9)\n",
    "resultcv.insert(0,\"M9[(x4)/(x1)+(x4)(x5)(x6)+(x4)(x6)+(x1)(x2)]\",np.append(results,[(np.mean(results)),regressor.score(x9,y9),regressor.score(x_test9,y_test9)]))\n",
    "#end"
   ]
  },
  {
   "cell_type": "markdown",
   "id": "c74fe3dd",
   "metadata": {},
   "source": [
    "# Model10 = A(x1)+B(x2)+C(x3)+D(x4)+E(x5)+F(x6)+G(x7)+H(x4)/(x1)+I(x4)(x5)(x6)+J(x4)(x6)+K(x1)(x2)+L(x2^2)+M(x2^3)"
   ]
  },
  {
   "cell_type": "code",
   "execution_count": 26,
   "id": "208e2fbb",
   "metadata": {},
   "outputs": [],
   "source": [
    "#model creation\n",
    "dfn10 = dfn9.copy()\n",
    "dfn10[\"Present_Price^2\"] = dfn10[\"Present_Price\"].astype(\"float64\")**(2)\n",
    "dfn10[\"Present_Price^3\"] = dfn10[\"Present_Price\"].astype(\"float64\")**(3)\n",
    "\n",
    "#normalizing\n",
    "N10 = scaler.fit_transform(dfn10.drop(columns=[\"Selling_Price\"]))\n",
    "dfw10 = pd.DataFrame(N10,columns = list(dfn10.drop(columns=[\"Selling_Price\"]).columns))\n",
    "dfw10[\"Selling_Price\"] = dfn10[\"Selling_Price\"]\n",
    "\n",
    "#x and y define\n",
    "x10=dfw10.drop(columns=[\"Selling_Price\"])\n",
    "y10=dfw10[\"Selling_Price\"].values.reshape(-1,1)\n",
    "x_train10, x_test10, y_train10, y_test10=train_test_split(x10,y10, test_size=ts,random_state=0)\n",
    "\n",
    "#KFold Test\n",
    "results = cross_val_score(regressor,x10,y10,cv=kfv)\n",
    "regressor.fit(x_train10,y_train10)\n",
    "resultcv.insert(0,\"M10[(x4)/(x1)+(x4)(x5)(x6)+(x2)(x6)+(x4)(x6)+(x2^2)+(x2^3)]\",np.append(results,[(np.mean(results)),regressor.score(x10,y10),regressor.score(x_test10,y_test10)]))\n",
    "#end"
   ]
  },
  {
   "cell_type": "markdown",
   "id": "12b35dbd",
   "metadata": {},
   "source": [
    "# Model11 = A(x1)+B(x2)+C(x3)+D(x4)+E(x5)+F(x6)+G(x7)+H(x4)/(x1)+I(x4)(x5)(x6)+J(x4)(x6)+K(x1)(x2)+L(x2^2)+M(x2^3)+O(x2^4)"
   ]
  },
  {
   "cell_type": "code",
   "execution_count": 27,
   "id": "16239e08",
   "metadata": {},
   "outputs": [],
   "source": [
    "#model creation\n",
    "dfn11 = dfn10.copy()\n",
    "dfn11[\"Present_Price^4\"] = dfn11[\"Present_Price\"].astype(\"float64\")**(4)\n",
    "\n",
    "#normalizing\n",
    "N11 = scaler.fit_transform(dfn11.drop(columns=[\"Selling_Price\"]))\n",
    "dfw11 = pd.DataFrame(N11,columns = list(dfn11.drop(columns=[\"Selling_Price\"]).columns))\n",
    "dfw11[\"Selling_Price\"] = dfn11[\"Selling_Price\"]\n",
    "\n",
    "#x and y define\n",
    "x11=dfw11.drop(columns=[\"Selling_Price\"])\n",
    "y11=dfw11[\"Selling_Price\"].values.reshape(-1,1)\n",
    "x_train11, x_test11, y_train11, y_test11=train_test_split(x11,y11, test_size=ts,random_state=0)\n",
    "\n",
    "#KFold Test\n",
    "results = cross_val_score(regressor,x11,y11,cv=kfv)\n",
    "regressor.fit(x_train11,y_train11)\n",
    "resultcv.insert(0,\"M11[(x4)/(x1)+(x4)(x5)(x6)+(x2)(x6)+(x4)(x6)+(x2^2)+(x2^3)+(x2^4)]\",np.append(results,[(np.mean(results)),regressor.score(x11,y11),regressor.score(x_test11,y_test11)]))\n",
    "#end"
   ]
  },
  {
   "cell_type": "code",
   "execution_count": 28,
   "id": "94d0d32d",
   "metadata": {},
   "outputs": [],
   "source": [
    "for i in resultcv.index:\n",
    "    resultcv.rename(index = {i: \"Kfold{}\".format(i+1)},inplace = True)\n",
    "resultcv.rename(index = {\"Kfold{}\".format(i-1):\"Average\"} ,inplace = True)\n",
    "resultcv.rename(index = {\"Kfold{}\".format(i):\"Score(x,y)\"} ,inplace = True)\n",
    "resultcv.rename(index = {\"Kfold{}\".format(i+1):\"Score(x_test,y_test)\"} ,inplace = True)"
   ]
  },
  {
   "cell_type": "code",
   "execution_count": 29,
   "id": "e2ab889a",
   "metadata": {
    "scrolled": false
   },
   "outputs": [
    {
     "data": {
      "text/html": [
       "<div>\n",
       "<style scoped>\n",
       "    .dataframe tbody tr th:only-of-type {\n",
       "        vertical-align: middle;\n",
       "    }\n",
       "\n",
       "    .dataframe tbody tr th {\n",
       "        vertical-align: top;\n",
       "    }\n",
       "\n",
       "    .dataframe thead th {\n",
       "        text-align: right;\n",
       "    }\n",
       "</style>\n",
       "<table border=\"1\" class=\"dataframe\">\n",
       "  <thead>\n",
       "    <tr style=\"text-align: right;\">\n",
       "      <th></th>\n",
       "      <th>Kfold1</th>\n",
       "      <th>Kfold2</th>\n",
       "      <th>Kfold3</th>\n",
       "      <th>Kfold4</th>\n",
       "      <th>Kfold5</th>\n",
       "      <th>Average</th>\n",
       "      <th>Score(x,y)</th>\n",
       "      <th>Score(x_test,y_test)</th>\n",
       "    </tr>\n",
       "  </thead>\n",
       "  <tbody>\n",
       "    <tr>\n",
       "      <th>M11[(x4)/(x1)+(x4)(x5)(x6)+(x2)(x6)+(x4)(x6)+(x2^2)+(x2^3)+(x2^4)]</th>\n",
       "      <td>0.949437</td>\n",
       "      <td>-257.546075</td>\n",
       "      <td>-3.025710</td>\n",
       "      <td>0.913097</td>\n",
       "      <td>0.919679</td>\n",
       "      <td>-51.557914</td>\n",
       "      <td>0.972405</td>\n",
       "      <td>0.974259</td>\n",
       "    </tr>\n",
       "    <tr>\n",
       "      <th>M10[(x4)/(x1)+(x4)(x5)(x6)+(x2)(x6)+(x4)(x6)+(x2^2)+(x2^3)]</th>\n",
       "      <td>0.949251</td>\n",
       "      <td>0.962336</td>\n",
       "      <td>-2.598611</td>\n",
       "      <td>0.912661</td>\n",
       "      <td>0.920396</td>\n",
       "      <td>0.229206</td>\n",
       "      <td>0.972286</td>\n",
       "      <td>0.973805</td>\n",
       "    </tr>\n",
       "    <tr>\n",
       "      <th>M9[(x4)/(x1)+(x4)(x5)(x6)+(x4)(x6)+(x1)(x2)]</th>\n",
       "      <td>0.943475</td>\n",
       "      <td>0.951568</td>\n",
       "      <td>-2.083647</td>\n",
       "      <td>0.899607</td>\n",
       "      <td>0.916523</td>\n",
       "      <td>0.325505</td>\n",
       "      <td>0.969448</td>\n",
       "      <td>0.979334</td>\n",
       "    </tr>\n",
       "    <tr>\n",
       "      <th>M8[(x4)/(x1)+(x4)(x5)(x6)+(x2)(x6)+(x4)(x6)+(x1)(x2)]</th>\n",
       "      <td>0.945597</td>\n",
       "      <td>0.953997</td>\n",
       "      <td>-3.358790</td>\n",
       "      <td>0.901936</td>\n",
       "      <td>0.916362</td>\n",
       "      <td>0.071820</td>\n",
       "      <td>0.970131</td>\n",
       "      <td>0.979558</td>\n",
       "    </tr>\n",
       "    <tr>\n",
       "      <th>M7[(x4)/(x1)+(x4)(x5)(x6)+(x2)(x6)+(x4)(x6)]</th>\n",
       "      <td>0.867100</td>\n",
       "      <td>0.782801</td>\n",
       "      <td>-91.146422</td>\n",
       "      <td>0.416047</td>\n",
       "      <td>0.777377</td>\n",
       "      <td>-17.660619</td>\n",
       "      <td>0.902528</td>\n",
       "      <td>0.898656</td>\n",
       "    </tr>\n",
       "    <tr>\n",
       "      <th>M6[(x4)/(x1)+(x2)(x6)]</th>\n",
       "      <td>0.872855</td>\n",
       "      <td>0.772866</td>\n",
       "      <td>-71.096182</td>\n",
       "      <td>0.292472</td>\n",
       "      <td>0.805931</td>\n",
       "      <td>-13.670412</td>\n",
       "      <td>0.891212</td>\n",
       "      <td>0.889885</td>\n",
       "    </tr>\n",
       "    <tr>\n",
       "      <th>M5[(x4)/(x1)+(x4)(x5)(x6)+(x2)(x6)]</th>\n",
       "      <td>0.871445</td>\n",
       "      <td>0.768490</td>\n",
       "      <td>-134.923046</td>\n",
       "      <td>0.333326</td>\n",
       "      <td>0.787007</td>\n",
       "      <td>-26.432555</td>\n",
       "      <td>0.894331</td>\n",
       "      <td>0.889736</td>\n",
       "    </tr>\n",
       "    <tr>\n",
       "      <th>M4[(x4)/(x1)+(x4)(x5)(x6)]</th>\n",
       "      <td>0.889919</td>\n",
       "      <td>0.767637</td>\n",
       "      <td>-183.151592</td>\n",
       "      <td>0.489486</td>\n",
       "      <td>0.835388</td>\n",
       "      <td>-36.033832</td>\n",
       "      <td>0.882761</td>\n",
       "      <td>0.863692</td>\n",
       "    </tr>\n",
       "    <tr>\n",
       "      <th>M3[(x4)/(x1)+(x2^3)]</th>\n",
       "      <td>0.881375</td>\n",
       "      <td>0.590106</td>\n",
       "      <td>-84.407930</td>\n",
       "      <td>0.345531</td>\n",
       "      <td>0.872763</td>\n",
       "      <td>-16.343631</td>\n",
       "      <td>0.889869</td>\n",
       "      <td>0.879997</td>\n",
       "    </tr>\n",
       "    <tr>\n",
       "      <th>M2[(x4)/(x1)+(x2^2)]</th>\n",
       "      <td>0.881444</td>\n",
       "      <td>0.819771</td>\n",
       "      <td>-86.048301</td>\n",
       "      <td>0.344711</td>\n",
       "      <td>0.875200</td>\n",
       "      <td>-16.625435</td>\n",
       "      <td>0.887966</td>\n",
       "      <td>0.874882</td>\n",
       "    </tr>\n",
       "    <tr>\n",
       "      <th>M1</th>\n",
       "      <td>0.873288</td>\n",
       "      <td>0.769140</td>\n",
       "      <td>-106.381815</td>\n",
       "      <td>0.584177</td>\n",
       "      <td>0.840180</td>\n",
       "      <td>-20.663006</td>\n",
       "      <td>0.878025</td>\n",
       "      <td>0.862360</td>\n",
       "    </tr>\n",
       "  </tbody>\n",
       "</table>\n",
       "</div>"
      ],
      "text/plain": [
       "                                                      Kfold1      Kfold2  \\\n",
       "M11[(x4)/(x1)+(x4)(x5)(x6)+(x2)(x6)+(x4)(x6)+(x...  0.949437 -257.546075   \n",
       "M10[(x4)/(x1)+(x4)(x5)(x6)+(x2)(x6)+(x4)(x6)+(x...  0.949251    0.962336   \n",
       "M9[(x4)/(x1)+(x4)(x5)(x6)+(x4)(x6)+(x1)(x2)]        0.943475    0.951568   \n",
       "M8[(x4)/(x1)+(x4)(x5)(x6)+(x2)(x6)+(x4)(x6)+(x1...  0.945597    0.953997   \n",
       "M7[(x4)/(x1)+(x4)(x5)(x6)+(x2)(x6)+(x4)(x6)]        0.867100    0.782801   \n",
       "M6[(x4)/(x1)+(x2)(x6)]                              0.872855    0.772866   \n",
       "M5[(x4)/(x1)+(x4)(x5)(x6)+(x2)(x6)]                 0.871445    0.768490   \n",
       "M4[(x4)/(x1)+(x4)(x5)(x6)]                          0.889919    0.767637   \n",
       "M3[(x4)/(x1)+(x2^3)]                                0.881375    0.590106   \n",
       "M2[(x4)/(x1)+(x2^2)]                                0.881444    0.819771   \n",
       "M1                                                  0.873288    0.769140   \n",
       "\n",
       "                                                        Kfold3    Kfold4  \\\n",
       "M11[(x4)/(x1)+(x4)(x5)(x6)+(x2)(x6)+(x4)(x6)+(x...   -3.025710  0.913097   \n",
       "M10[(x4)/(x1)+(x4)(x5)(x6)+(x2)(x6)+(x4)(x6)+(x...   -2.598611  0.912661   \n",
       "M9[(x4)/(x1)+(x4)(x5)(x6)+(x4)(x6)+(x1)(x2)]         -2.083647  0.899607   \n",
       "M8[(x4)/(x1)+(x4)(x5)(x6)+(x2)(x6)+(x4)(x6)+(x1...   -3.358790  0.901936   \n",
       "M7[(x4)/(x1)+(x4)(x5)(x6)+(x2)(x6)+(x4)(x6)]        -91.146422  0.416047   \n",
       "M6[(x4)/(x1)+(x2)(x6)]                              -71.096182  0.292472   \n",
       "M5[(x4)/(x1)+(x4)(x5)(x6)+(x2)(x6)]                -134.923046  0.333326   \n",
       "M4[(x4)/(x1)+(x4)(x5)(x6)]                         -183.151592  0.489486   \n",
       "M3[(x4)/(x1)+(x2^3)]                                -84.407930  0.345531   \n",
       "M2[(x4)/(x1)+(x2^2)]                                -86.048301  0.344711   \n",
       "M1                                                 -106.381815  0.584177   \n",
       "\n",
       "                                                      Kfold5    Average  \\\n",
       "M11[(x4)/(x1)+(x4)(x5)(x6)+(x2)(x6)+(x4)(x6)+(x...  0.919679 -51.557914   \n",
       "M10[(x4)/(x1)+(x4)(x5)(x6)+(x2)(x6)+(x4)(x6)+(x...  0.920396   0.229206   \n",
       "M9[(x4)/(x1)+(x4)(x5)(x6)+(x4)(x6)+(x1)(x2)]        0.916523   0.325505   \n",
       "M8[(x4)/(x1)+(x4)(x5)(x6)+(x2)(x6)+(x4)(x6)+(x1...  0.916362   0.071820   \n",
       "M7[(x4)/(x1)+(x4)(x5)(x6)+(x2)(x6)+(x4)(x6)]        0.777377 -17.660619   \n",
       "M6[(x4)/(x1)+(x2)(x6)]                              0.805931 -13.670412   \n",
       "M5[(x4)/(x1)+(x4)(x5)(x6)+(x2)(x6)]                 0.787007 -26.432555   \n",
       "M4[(x4)/(x1)+(x4)(x5)(x6)]                          0.835388 -36.033832   \n",
       "M3[(x4)/(x1)+(x2^3)]                                0.872763 -16.343631   \n",
       "M2[(x4)/(x1)+(x2^2)]                                0.875200 -16.625435   \n",
       "M1                                                  0.840180 -20.663006   \n",
       "\n",
       "                                                    Score(x,y)  \\\n",
       "M11[(x4)/(x1)+(x4)(x5)(x6)+(x2)(x6)+(x4)(x6)+(x...    0.972405   \n",
       "M10[(x4)/(x1)+(x4)(x5)(x6)+(x2)(x6)+(x4)(x6)+(x...    0.972286   \n",
       "M9[(x4)/(x1)+(x4)(x5)(x6)+(x4)(x6)+(x1)(x2)]          0.969448   \n",
       "M8[(x4)/(x1)+(x4)(x5)(x6)+(x2)(x6)+(x4)(x6)+(x1...    0.970131   \n",
       "M7[(x4)/(x1)+(x4)(x5)(x6)+(x2)(x6)+(x4)(x6)]          0.902528   \n",
       "M6[(x4)/(x1)+(x2)(x6)]                                0.891212   \n",
       "M5[(x4)/(x1)+(x4)(x5)(x6)+(x2)(x6)]                   0.894331   \n",
       "M4[(x4)/(x1)+(x4)(x5)(x6)]                            0.882761   \n",
       "M3[(x4)/(x1)+(x2^3)]                                  0.889869   \n",
       "M2[(x4)/(x1)+(x2^2)]                                  0.887966   \n",
       "M1                                                    0.878025   \n",
       "\n",
       "                                                    Score(x_test,y_test)  \n",
       "M11[(x4)/(x1)+(x4)(x5)(x6)+(x2)(x6)+(x4)(x6)+(x...              0.974259  \n",
       "M10[(x4)/(x1)+(x4)(x5)(x6)+(x2)(x6)+(x4)(x6)+(x...              0.973805  \n",
       "M9[(x4)/(x1)+(x4)(x5)(x6)+(x4)(x6)+(x1)(x2)]                    0.979334  \n",
       "M8[(x4)/(x1)+(x4)(x5)(x6)+(x2)(x6)+(x4)(x6)+(x1...              0.979558  \n",
       "M7[(x4)/(x1)+(x4)(x5)(x6)+(x2)(x6)+(x4)(x6)]                    0.898656  \n",
       "M6[(x4)/(x1)+(x2)(x6)]                                          0.889885  \n",
       "M5[(x4)/(x1)+(x4)(x5)(x6)+(x2)(x6)]                             0.889736  \n",
       "M4[(x4)/(x1)+(x4)(x5)(x6)]                                      0.863692  \n",
       "M3[(x4)/(x1)+(x2^3)]                                            0.879997  \n",
       "M2[(x4)/(x1)+(x2^2)]                                            0.874882  \n",
       "M1                                                              0.862360  "
      ]
     },
     "execution_count": 29,
     "metadata": {},
     "output_type": "execute_result"
    }
   ],
   "source": [
    "resultcv.iloc[:,:].T"
   ]
  },
  {
   "cell_type": "code",
   "execution_count": 30,
   "id": "c1564cc1",
   "metadata": {},
   "outputs": [],
   "source": [
    "regressor = LinearRegression()\n",
    "regressor.fit(x_train8,y_train8)\n",
    "y_pred8 = regressor.predict(x_test8)\n",
    "nx_test8 = x_test8.copy()\n",
    "nx_test8[\"Y_Test\"] = y_test8\n",
    "nx_test8[\"Y_Prediction\"] = y_pred8"
   ]
  },
  {
   "cell_type": "code",
   "execution_count": 31,
   "id": "12702560",
   "metadata": {},
   "outputs": [
    {
     "name": "stdout",
     "output_type": "stream",
     "text": [
      "MAE 0.5331947833315833\n",
      "MSE 0.6149401995039702\n",
      "RMAE 0.730201878477167\n",
      "R2S 0.9795576937887097\n"
     ]
    }
   ],
   "source": [
    "print(\"MAE\", metrics.mean_absolute_error(y_test8,y_pred8))\n",
    "print(\"MSE\", metrics.mean_squared_error(y_test8,y_pred8))\n",
    "print(\"RMAE\", np.sqrt(metrics.mean_absolute_error(y_test8,y_pred8)))\n",
    "print(\"R2S\", metrics.r2_score(y_test8,y_pred8))"
   ]
  },
  {
   "cell_type": "code",
   "execution_count": 32,
   "id": "2c573fdc",
   "metadata": {},
   "outputs": [],
   "source": [
    "# Train and Test datafarme ( Red dots are Test records ) (note that feaures are scaled that's why they are between 0-1 )\n",
    "# X axis is selling price"
   ]
  },
  {
   "cell_type": "code",
   "execution_count": 33,
   "id": "772e90dd",
   "metadata": {},
   "outputs": [
    {
     "data": {
      "image/png": "[encoded data removed]",
      "text/plain": [
       "<Figure size 864x288 with 3 Axes>"
      ]
     },
     "metadata": {
      "needs_background": "light"
     },
     "output_type": "display_data"
    }
   ],
   "source": [
    "fig, axs = plt.subplots(1,3,sharex=False, figsize=(12, 4))\n",
    "axs[1].scatter(y_train8,x_train8[\"Age\"])\n",
    "axs[1].scatter(y_pred8,x_test8[\"Age\"],color=\"Red\")\n",
    "axs[1].grid();axs[1].set_title(\"Age\")\n",
    "axs[2].scatter(y_train8,x_train8[\"Present_Price\"])\n",
    "axs[2].scatter(y_pred8,x_test8[\"Present_Price\"],color=\"Red\")\n",
    "axs[2].grid();axs[2].set_title(\"Present_Price\")\n",
    "axs[0].scatter(y_train8,x_train8[\"Kms_Driven\"])\n",
    "axs[0].scatter(y_pred8,x_test8[\"Kms_Driven\"],color=\"Red\")\n",
    "axs[0].grid();axs[0].set_title(\"Kms_Driven\");"
   ]
  },
  {
   "cell_type": "code",
   "execution_count": 34,
   "id": "e48e9a0b",
   "metadata": {},
   "outputs": [],
   "source": [
    "# Regression Line in Test dataframe (Y axis is selling prices)"
   ]
  },
  {
   "cell_type": "code",
   "execution_count": 35,
   "id": "ee264356",
   "metadata": {
    "scrolled": true
   },
   "outputs": [
    {
     "data": {
      "image/png": "[encoded data removed]",
      "text/plain": [
       "<Figure size 720x288 with 3 Axes>"
      ]
     },
     "metadata": {
      "needs_background": "light"
     },
     "output_type": "display_data"
    }
   ],
   "source": [
    "fig, axs = plt.subplots(1,3,sharex=False, figsize=(10, 4))\n",
    "axs[0].plot(nx_test8.sort_values(by=\"Age\")[\"Age\"],nx_test8.sort_values(by=\"Age\")[\"Y_Prediction\"],color=\"Blue\")\n",
    "axs[0].scatter(nx_test8.sort_values(by=\"Age\")[\"Age\"],nx_test8.sort_values(by=\"Age\")[\"Y_Test\"],color=\"Red\")\n",
    "axs[0].grid();axs[0].set_title(\"Age\")\n",
    "axs[1].plot(nx_test8.sort_values(by=\"Present_Price\")[\"Present_Price\"],nx_test8.sort_values(by=\"Present_Price\")[\"Y_Prediction\"],color=\"Blue\")\n",
    "axs[1].scatter(nx_test8.sort_values(by=\"Present_Price\")[\"Present_Price\"],nx_test8.sort_values(by=\"Present_Price\")[\"Y_Test\"],color=\"Red\")\n",
    "axs[1].grid();axs[1].set_title(\"Present_Price\")\n",
    "axs[2].plot(nx_test8.sort_values(by=\"Kms_Driven\")[\"Kms_Driven\"],nx_test8.sort_values(by=\"Kms_Driven\")[\"Y_Prediction\"],color=\"Blue\")\n",
    "axs[2].scatter(nx_test8.sort_values(by=\"Kms_Driven\")[\"Kms_Driven\"],nx_test8.sort_values(by=\"Kms_Driven\")[\"Y_Test\"],color=\"Red\")\n",
    "axs[2].grid();axs[2].set_title(\"Kms_Driven\");\n",
    "fig.tight_layout()"
   ]
  },
  {
   "cell_type": "code",
   "execution_count": 36,
   "id": "f18c6b38",
   "metadata": {},
   "outputs": [],
   "source": [
    "# Comparing Y_test and Y_pred"
   ]
  },
  {
   "cell_type": "code",
   "execution_count": 37,
   "id": "e4e344df",
   "metadata": {},
   "outputs": [
    {
     "data": {
      "image/png": "[encoded data removed]",
      "text/plain": [
       "<Figure size 432x432 with 1 Axes>"
      ]
     },
     "metadata": {
      "needs_background": "light"
     },
     "output_type": "display_data"
    }
   ],
   "source": [
    "plt.figure(figsize=(6,6));plt.scatter(y_test8,y_pred8);plt.title(\"Prediction vs Actual\");\n",
    "plt.xticks(np.arange(0,33,2.5),rotation=90);plt.yticks(np.arange(0,33,2.5));plt.xlabel(\"Actual\");plt.ylabel(\"Prediction\");plt.grid();\n",
    "plt.plot([0, 33], [0, 33], ls=\"--\", c=\"Red\");"
   ]
  },
  {
   "cell_type": "code",
   "execution_count": 38,
   "id": "3a0c8e7e",
   "metadata": {},
   "outputs": [],
   "source": [
    "# Input dataframe"
   ]
  },
  {
   "cell_type": "code",
   "execution_count": 39,
   "id": "8ecf9247",
   "metadata": {},
   "outputs": [
    {
     "name": "stdout",
     "output_type": "stream",
     "text": [
      "<class 'pandas.core.frame.DataFrame'>\n",
      "RangeIndex: 298 entries, 0 to 297\n",
      "Data columns (total 13 columns):\n",
      " #   Column         Non-Null Count  Dtype  \n",
      "---  ------         --------------  -----  \n",
      " 0   Age            298 non-null    int64  \n",
      " 1   Selling_Price  298 non-null    float64\n",
      " 2   Present_Price  298 non-null    float64\n",
      " 3   Kms_Driven     298 non-null    int64  \n",
      " 4   Fuel_Type      298 non-null    float64\n",
      " 5   Seller_Type    298 non-null    float64\n",
      " 6   Transmission   298 non-null    float64\n",
      " 7   Owner          298 non-null    int64  \n",
      " 8   Kms/Age        298 non-null    float64\n",
      " 9   Fue*Sel*Tran   298 non-null    float64\n",
      " 10  Pres*Trans     298 non-null    float64\n",
      " 11  Fue*Trans      298 non-null    float64\n",
      " 12  Age*Pres       298 non-null    float64\n",
      "dtypes: float64(10), int64(3)\n",
      "memory usage: 30.4 KB\n"
     ]
    }
   ],
   "source": [
    "dfn8.info()"
   ]
  },
  {
   "cell_type": "code",
   "execution_count": 40,
   "id": "a5b3f194",
   "metadata": {
    "scrolled": false
   },
   "outputs": [],
   "source": [
    "nd = {\"Age\":[8,5,1,13,6,2,12,10,10],\"Present_Price\":[8.75,10.35,17.85,25.25,13.14,10,24.24,18.85,11.23],\n",
    "        \"Kms_Driven\":[7000,10000,13000,25000,20000,20000,20000,85000,42000],\n",
    "        \"Fuel_Type\":[3.0,2.0,3.0,2.0,3.0,3.0,3.0,2.0,4.0],\"Seller_Type\":[2.0,3.0,3.0,2.0,2.0,3.0,3.0,3.0,2.0],\n",
    "        \"Transmission\":[3.0,2.0,3.0,2.0,3.0,3.0,3.0,2.0,2.0],\"Owner\":[2,3,2,4,3,1,3,2,2]}\n",
    "df_t = pd.DataFrame(nd)\n",
    "df_t[\"Kms/Age\"] = df_t[\"Kms_Driven\"]/df_t[\"Age\"]\n",
    "df_t[\"Fue*Sel*Tran\"] = df_t[\"Fuel_Type\"]*df_t[\"Seller_Type\"]*df_t[\"Transmission\"]\n",
    "df_t[\"Pres*Trans\"] = df_t[\"Present_Price\"]*df_t[\"Transmission\"]\n",
    "df_t[\"Fue*Trans\"] = df_t[\"Fuel_Type\"]*df_t[\"Transmission\"]\n",
    "df_t[\"Age*Pres\"] = df_t[\"Age\"]*df_t[\"Present_Price\"]\n",
    "df_test = dfn8.drop(columns=\"Selling_Price\").append(df_t)"
   ]
  },
  {
   "cell_type": "code",
   "execution_count": 41,
   "id": "7d520422",
   "metadata": {},
   "outputs": [
    {
     "data": {
      "text/html": [
       "<div>\n",
       "<style scoped>\n",
       "    .dataframe tbody tr th:only-of-type {\n",
       "        vertical-align: middle;\n",
       "    }\n",
       "\n",
       "    .dataframe tbody tr th {\n",
       "        vertical-align: top;\n",
       "    }\n",
       "\n",
       "    .dataframe thead th {\n",
       "        text-align: right;\n",
       "    }\n",
       "</style>\n",
       "<table border=\"1\" class=\"dataframe\">\n",
       "  <thead>\n",
       "    <tr style=\"text-align: right;\">\n",
       "      <th></th>\n",
       "      <th>Age</th>\n",
       "      <th>Present_Price</th>\n",
       "      <th>Kms_Driven</th>\n",
       "      <th>Fuel_Type</th>\n",
       "      <th>Seller_Type</th>\n",
       "      <th>Transmission</th>\n",
       "      <th>Owner</th>\n",
       "      <th>Kms/Age</th>\n",
       "      <th>Fue*Sel*Tran</th>\n",
       "      <th>Pres*Trans</th>\n",
       "      <th>Fue*Trans</th>\n",
       "      <th>Age*Pres</th>\n",
       "    </tr>\n",
       "  </thead>\n",
       "  <tbody>\n",
       "    <tr>\n",
       "      <th>0</th>\n",
       "      <td>0.266667</td>\n",
       "      <td>0.057109</td>\n",
       "      <td>0.053053</td>\n",
       "      <td>0.5</td>\n",
       "      <td>1.0</td>\n",
       "      <td>0.0</td>\n",
       "      <td>0.0</td>\n",
       "      <td>0.115557</td>\n",
       "      <td>0.526316</td>\n",
       "      <td>0.057109</td>\n",
       "      <td>0.4</td>\n",
       "      <td>0.032353</td>\n",
       "    </tr>\n",
       "    <tr>\n",
       "      <th>1</th>\n",
       "      <td>0.333333</td>\n",
       "      <td>0.099913</td>\n",
       "      <td>0.085085</td>\n",
       "      <td>0.0</td>\n",
       "      <td>1.0</td>\n",
       "      <td>0.0</td>\n",
       "      <td>0.0</td>\n",
       "      <td>0.154567</td>\n",
       "      <td>0.210526</td>\n",
       "      <td>0.099913</td>\n",
       "      <td>0.0</td>\n",
       "      <td>0.067541</td>\n",
       "    </tr>\n",
       "    <tr>\n",
       "      <th>2</th>\n",
       "      <td>0.066667</td>\n",
       "      <td>0.103273</td>\n",
       "      <td>0.012813</td>\n",
       "      <td>0.5</td>\n",
       "      <td>1.0</td>\n",
       "      <td>0.0</td>\n",
       "      <td>0.0</td>\n",
       "      <td>0.072499</td>\n",
       "      <td>0.526316</td>\n",
       "      <td>0.103273</td>\n",
       "      <td>0.4</td>\n",
       "      <td>0.022442</td>\n",
       "    </tr>\n",
       "    <tr>\n",
       "      <th>3</th>\n",
       "      <td>0.466667</td>\n",
       "      <td>0.041504</td>\n",
       "      <td>0.009409</td>\n",
       "      <td>0.5</td>\n",
       "      <td>1.0</td>\n",
       "      <td>0.0</td>\n",
       "      <td>0.0</td>\n",
       "      <td>0.010672</td>\n",
       "      <td>0.526316</td>\n",
       "      <td>0.041504</td>\n",
       "      <td>0.4</td>\n",
       "      <td>0.038660</td>\n",
       "    </tr>\n",
       "    <tr>\n",
       "      <th>4</th>\n",
       "      <td>0.266667</td>\n",
       "      <td>0.070980</td>\n",
       "      <td>0.083984</td>\n",
       "      <td>0.0</td>\n",
       "      <td>1.0</td>\n",
       "      <td>0.0</td>\n",
       "      <td>0.0</td>\n",
       "      <td>0.183787</td>\n",
       "      <td>0.210526</td>\n",
       "      <td>0.070980</td>\n",
       "      <td>0.0</td>\n",
       "      <td>0.040042</td>\n",
       "    </tr>\n",
       "  </tbody>\n",
       "</table>\n",
       "</div>"
      ],
      "text/plain": [
       "        Age  Present_Price  Kms_Driven  Fuel_Type  Seller_Type  Transmission  \\\n",
       "0  0.266667       0.057109    0.053053        0.5          1.0           0.0   \n",
       "1  0.333333       0.099913    0.085085        0.0          1.0           0.0   \n",
       "2  0.066667       0.103273    0.012813        0.5          1.0           0.0   \n",
       "3  0.466667       0.041504    0.009409        0.5          1.0           0.0   \n",
       "4  0.266667       0.070980    0.083984        0.0          1.0           0.0   \n",
       "\n",
       "   Owner   Kms/Age  Fue*Sel*Tran  Pres*Trans  Fue*Trans  Age*Pres  \n",
       "0    0.0  0.115557      0.526316    0.057109        0.4  0.032353  \n",
       "1    0.0  0.154567      0.210526    0.099913        0.0  0.067541  \n",
       "2    0.0  0.072499      0.526316    0.103273        0.4  0.022442  \n",
       "3    0.0  0.010672      0.526316    0.041504        0.4  0.038660  \n",
       "4    0.0  0.183787      0.210526    0.070980        0.0  0.040042  "
      ]
     },
     "execution_count": 41,
     "metadata": {},
     "output_type": "execute_result"
    }
   ],
   "source": [
    "Nt = scaler.fit_transform(df_test)\n",
    "df_testw = pd.DataFrame(Nt,columns = list(dfn8.drop(columns=\"Selling_Price\")))\n",
    "df_testw.head()"
   ]
  },
  {
   "cell_type": "code",
   "execution_count": 42,
   "id": "89f7f561",
   "metadata": {},
   "outputs": [
    {
     "data": {
      "text/html": [
       "<div>\n",
       "<style scoped>\n",
       "    .dataframe tbody tr th:only-of-type {\n",
       "        vertical-align: middle;\n",
       "    }\n",
       "\n",
       "    .dataframe tbody tr th {\n",
       "        vertical-align: top;\n",
       "    }\n",
       "\n",
       "    .dataframe thead th {\n",
       "        text-align: right;\n",
       "    }\n",
       "</style>\n",
       "<table border=\"1\" class=\"dataframe\">\n",
       "  <thead>\n",
       "    <tr style=\"text-align: right;\">\n",
       "      <th></th>\n",
       "      <th>Age</th>\n",
       "      <th>Present_Price</th>\n",
       "      <th>Kms_Driven</th>\n",
       "      <th>Fuel_Type</th>\n",
       "      <th>Seller_Type</th>\n",
       "      <th>Transmission</th>\n",
       "      <th>Owner</th>\n",
       "      <th>Kms/Age</th>\n",
       "      <th>Fue*Sel*Tran</th>\n",
       "      <th>Pres*Trans</th>\n",
       "      <th>Fue*Trans</th>\n",
       "      <th>Age*Pres</th>\n",
       "      <th>Selling_Price</th>\n",
       "    </tr>\n",
       "  </thead>\n",
       "  <tbody>\n",
       "    <tr>\n",
       "      <th>0</th>\n",
       "      <td>5</td>\n",
       "      <td>5.59</td>\n",
       "      <td>27000</td>\n",
       "      <td>3.0</td>\n",
       "      <td>3.0</td>\n",
       "      <td>2.0</td>\n",
       "      <td>0</td>\n",
       "      <td>5400.000000</td>\n",
       "      <td>18.0</td>\n",
       "      <td>11.18</td>\n",
       "      <td>6.0</td>\n",
       "      <td>27.95</td>\n",
       "      <td>3.35</td>\n",
       "    </tr>\n",
       "    <tr>\n",
       "      <th>1</th>\n",
       "      <td>6</td>\n",
       "      <td>9.54</td>\n",
       "      <td>43000</td>\n",
       "      <td>2.0</td>\n",
       "      <td>3.0</td>\n",
       "      <td>2.0</td>\n",
       "      <td>0</td>\n",
       "      <td>7166.666667</td>\n",
       "      <td>12.0</td>\n",
       "      <td>19.08</td>\n",
       "      <td>4.0</td>\n",
       "      <td>57.24</td>\n",
       "      <td>4.75</td>\n",
       "    </tr>\n",
       "    <tr>\n",
       "      <th>2</th>\n",
       "      <td>2</td>\n",
       "      <td>9.85</td>\n",
       "      <td>6900</td>\n",
       "      <td>3.0</td>\n",
       "      <td>3.0</td>\n",
       "      <td>2.0</td>\n",
       "      <td>0</td>\n",
       "      <td>3450.000000</td>\n",
       "      <td>18.0</td>\n",
       "      <td>19.70</td>\n",
       "      <td>6.0</td>\n",
       "      <td>19.70</td>\n",
       "      <td>7.25</td>\n",
       "    </tr>\n",
       "    <tr>\n",
       "      <th>3</th>\n",
       "      <td>8</td>\n",
       "      <td>4.15</td>\n",
       "      <td>5200</td>\n",
       "      <td>3.0</td>\n",
       "      <td>3.0</td>\n",
       "      <td>2.0</td>\n",
       "      <td>0</td>\n",
       "      <td>650.000000</td>\n",
       "      <td>18.0</td>\n",
       "      <td>8.30</td>\n",
       "      <td>6.0</td>\n",
       "      <td>33.20</td>\n",
       "      <td>2.85</td>\n",
       "    </tr>\n",
       "    <tr>\n",
       "      <th>4</th>\n",
       "      <td>5</td>\n",
       "      <td>6.87</td>\n",
       "      <td>42450</td>\n",
       "      <td>2.0</td>\n",
       "      <td>3.0</td>\n",
       "      <td>2.0</td>\n",
       "      <td>0</td>\n",
       "      <td>8490.000000</td>\n",
       "      <td>12.0</td>\n",
       "      <td>13.74</td>\n",
       "      <td>4.0</td>\n",
       "      <td>34.35</td>\n",
       "      <td>4.60</td>\n",
       "    </tr>\n",
       "  </tbody>\n",
       "</table>\n",
       "</div>"
      ],
      "text/plain": [
       "   Age  Present_Price  Kms_Driven  Fuel_Type  Seller_Type  Transmission  \\\n",
       "0    5           5.59       27000        3.0          3.0           2.0   \n",
       "1    6           9.54       43000        2.0          3.0           2.0   \n",
       "2    2           9.85        6900        3.0          3.0           2.0   \n",
       "3    8           4.15        5200        3.0          3.0           2.0   \n",
       "4    5           6.87       42450        2.0          3.0           2.0   \n",
       "\n",
       "   Owner      Kms/Age  Fue*Sel*Tran  Pres*Trans  Fue*Trans  Age*Pres  \\\n",
       "0      0  5400.000000          18.0       11.18        6.0     27.95   \n",
       "1      0  7166.666667          12.0       19.08        4.0     57.24   \n",
       "2      0  3450.000000          18.0       19.70        6.0     19.70   \n",
       "3      0   650.000000          18.0        8.30        6.0     33.20   \n",
       "4      0  8490.000000          12.0       13.74        4.0     34.35   \n",
       "\n",
       "   Selling_Price  \n",
       "0           3.35  \n",
       "1           4.75  \n",
       "2           7.25  \n",
       "3           2.85  \n",
       "4           4.60  "
      ]
     },
     "execution_count": 42,
     "metadata": {},
     "output_type": "execute_result"
    }
   ],
   "source": [
    "xt = df_testw.iloc[:len(dfn8),:]\n",
    "yt = dfw8[\"Selling_Price\"].values.reshape(-1,1)\n",
    "regressor.fit(xt,yt)\n",
    "y_predt = regressor.predict(df_testw.iloc[len(dfn8):,:])\n",
    "dfx = df_test.iloc[:len(dfn8),:].copy();dfx[\"Selling_Price\"]=dfn8[\"Selling_Price\"]\n",
    "dfp = df_test.iloc[len(dfn8):,:].copy();dfp[\"Selling_Price\"]=y_predt\n",
    "df_tf = dfx.append(dfp)\n",
    "df_tf.head()"
   ]
  },
  {
   "cell_type": "code",
   "execution_count": 43,
   "id": "c1dd47bb",
   "metadata": {},
   "outputs": [],
   "source": [
    "# Red dots are predicted Selling Prices"
   ]
  },
  {
   "cell_type": "code",
   "execution_count": 44,
   "id": "84a8b665",
   "metadata": {},
   "outputs": [
    {
     "data": {
      "image/png": "[encoded data removed]",
      "text/plain": [
       "<Figure size 864x288 with 3 Axes>"
      ]
     },
     "metadata": {
      "needs_background": "light"
     },
     "output_type": "display_data"
    }
   ],
   "source": [
    "fig, axs = plt.subplots(1,3,sharex=False, figsize=(12, 4))\n",
    "axs[1].scatter(dfx[\"Selling_Price\"],dfx[\"Age\"])\n",
    "axs[1].scatter(dfp[\"Selling_Price\"],dfp[\"Age\"],color=\"Red\")\n",
    "axs[1].grid();axs[1].set_title(\"Age\")\n",
    "axs[2].scatter(dfx[\"Selling_Price\"],dfx[\"Present_Price\"])\n",
    "axs[2].scatter(dfp[\"Selling_Price\"],dfp[\"Present_Price\"],color=\"Red\")\n",
    "axs[2].grid();axs[2].set_title(\"Present_Price\")\n",
    "axs[0].scatter(dfx[\"Selling_Price\"],dfx[\"Kms_Driven\"])\n",
    "axs[0].scatter(dfp[\"Selling_Price\"],dfp[\"Kms_Driven\"],color=\"Red\")\n",
    "axs[0].grid();axs[0].set_title(\"Kms_Driven\");"
   ]
  },
  {
   "cell_type": "code",
   "execution_count": null,
   "id": "dc9a089f",
   "metadata": {},
   "outputs": [],
   "source": []
  }
 ],
 "metadata": {
  "kernelspec": {
   "display_name": "Python 3 (ipykernel)",
   "language": "python",
   "name": "python3"
  },
  "language_info": {
   "codemirror_mode": {
    "name": "ipython",
    "version": 3
   },
   "file_extension": ".py",
   "mimetype": "text/x-python",
   "name": "python",
   "nbconvert_exporter": "python",
   "pygments_lexer": "ipython3",
   "version": "3.9.12"
  }
 },
 "nbformat": 4,
 "nbformat_minor": 5
}
